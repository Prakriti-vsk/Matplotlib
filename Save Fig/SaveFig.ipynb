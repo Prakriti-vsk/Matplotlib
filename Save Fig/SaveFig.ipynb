{
 "cells": [
  {
   "cell_type": "code",
   "execution_count": 1,
   "id": "7df644c7-8cf0-47df-9ea1-5caf18c5eb53",
   "metadata": {},
   "outputs": [],
   "source": [
    "import pandas as pd\n",
    "import numpy as np\n",
    "import matplotlib.pyplot as plt\n",
    "import seaborn as sns"
   ]
  },
  {
   "cell_type": "markdown",
   "id": "b0fbc40e-e753-4ded-a41a-05539a0bf4dd",
   "metadata": {},
   "source": [
    "# Save Fig"
   ]
  },
  {
   "cell_type": "code",
   "execution_count": null,
   "id": "ccc70a51-8ec2-4dd4-89b7-784ee1dba4b8",
   "metadata": {},
   "outputs": [],
   "source": [
    "x=[1,2,3,4,5,]"
   ]
  }
 ],
 "metadata": {
  "kernelspec": {
   "display_name": "Python 3 (ipykernel)",
   "language": "python",
   "name": "python3"
  },
  "language_info": {
   "codemirror_mode": {
    "name": "ipython",
    "version": 3
   },
   "file_extension": ".py",
   "mimetype": "text/x-python",
   "name": "python",
   "nbconvert_exporter": "python",
   "pygments_lexer": "ipython3",
   "version": "3.13.0"
  }
 },
 "nbformat": 4,
 "nbformat_minor": 5
}
